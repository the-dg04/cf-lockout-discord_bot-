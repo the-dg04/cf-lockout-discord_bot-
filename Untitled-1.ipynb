{
 "cells": [
  {
   "cell_type": "code",
   "execution_count": 2,
   "metadata": {},
   "outputs": [],
   "source": [
    "import requests\n",
    "import json"
   ]
  },
  {
   "cell_type": "code",
   "execution_count": 12,
   "metadata": {},
   "outputs": [],
   "source": [
    "res=json.loads(requests.get(\"https://codeforces.com/api/problemset.problems\").text)\n",
    "problems=res['result']['problems'][:2000]"
   ]
  },
  {
   "cell_type": "code",
   "execution_count": 1,
   "metadata": {},
   "outputs": [
    {
     "ename": "NameError",
     "evalue": "name 'problems' is not defined",
     "output_type": "error",
     "traceback": [
      "\u001b[0;31m---------------------------------------------------------------------------\u001b[0m",
      "\u001b[0;31mNameError\u001b[0m                                 Traceback (most recent call last)",
      "Cell \u001b[0;32mIn[1], line 1\u001b[0m\n\u001b[0;32m----> 1\u001b[0m \u001b[38;5;28;01mfor\u001b[39;00m i \u001b[38;5;129;01min\u001b[39;00m \u001b[43mproblems\u001b[49m:\n\u001b[1;32m      2\u001b[0m     \u001b[38;5;28;01mtry\u001b[39;00m:\n\u001b[1;32m      3\u001b[0m         \u001b[38;5;28;01mif\u001b[39;00m(i[\u001b[38;5;124m'\u001b[39m\u001b[38;5;124mrating\u001b[39m\u001b[38;5;124m'\u001b[39m]\u001b[38;5;241m==\u001b[39m\u001b[38;5;241m1800\u001b[39m):\n",
      "\u001b[0;31mNameError\u001b[0m: name 'problems' is not defined"
     ]
    }
   ],
   "source": [
    "for i in problems:\n",
    "    try:\n",
    "        if(i['rating']==1800):\n",
    "            print(i['name'])\n",
    "    except:\n",
    "        pass"
   ]
  },
  {
   "cell_type": "code",
   "execution_count": 72,
   "metadata": {},
   "outputs": [
    {
     "name": "stdout",
     "output_type": "stream",
     "text": [
      "Hamon Odyssey\n",
      "1709726700.0\n",
      "Creep\n",
      "1709719500.0\n",
      "Brick Wall\n",
      "1709718540.0\n",
      "Making Anti-Palindromes\n",
      "1709696580.0\n",
      "2^Sort\n",
      "1709652660.0\n",
      "Min-Max Array Transformation\n",
      "1709651340.0\n",
      "Iva & Pav\n",
      "1709574120.0\n",
      "Hossam and Friends\n",
      "1709563380.0\n",
      "Absolute Sorting\n",
      "1709538240.0\n",
      "Almost All Multiples\n",
      "1709535540.0\n",
      "A Balanced Problemset?\n",
      "1706441880.0\n",
      "We Got Everything Covered!\n",
      "1706386440.0\n",
      "Least Product\n",
      "1705315980.0\n",
      "Grouping Increases\n",
      "1704549180.0\n",
      "Wallet Exchange\n",
      "1704543480.0\n",
      "Plus-Minus Split\n",
      "1704543300.0\n",
      "Three Activities\n",
      "1703078400.0\n",
      "Quests\n",
      "1703077620.0\n",
      "Preparing for the Contest\n",
      "1703076780.0\n",
      "Problemsolving Log\n",
      "1703076480.0\n"
     ]
    }
   ],
   "source": [
    "import requests \n",
    "from bs4 import BeautifulSoup \n",
    "import html5lib\n",
    "import time\n",
    "  \n",
    "URL = \"https://codeforces.com/submissions/whitelistedguy\" \n",
    "r = requests.get(URL)\n",
    "soup = BeautifulSoup(r.content, 'html5lib')\n",
    "for i in soup.table.find_all('tr')[1:]:\n",
    "    cells=i.find_all('td')\n",
    "    verdict=cells[5].text.strip()\n",
    "    time_format=\"%b/%d/%Y %H:%M\"\n",
    "    time_stamp=time.mktime(time.strptime(cells[1].text.strip(),time_format))\n",
    "    problem_name='-'.join(cells[3].a.text.strip().split('-')[1:]).strip()\n",
    "    if(verdict==\"Accepted\"):\n",
    "        print(problem_name)\n",
    "        print(time_stamp)"
   ]
  },
  {
   "cell_type": "code",
   "execution_count": null,
   "metadata": {},
   "outputs": [],
   "source": []
  }
 ],
 "metadata": {
  "kernelspec": {
   "display_name": "Python 3",
   "language": "python",
   "name": "python3"
  },
  "language_info": {
   "codemirror_mode": {
    "name": "ipython",
    "version": 3
   },
   "file_extension": ".py",
   "mimetype": "text/x-python",
   "name": "python",
   "nbconvert_exporter": "python",
   "pygments_lexer": "ipython3",
   "version": "3.10.12"
  }
 },
 "nbformat": 4,
 "nbformat_minor": 2
}
